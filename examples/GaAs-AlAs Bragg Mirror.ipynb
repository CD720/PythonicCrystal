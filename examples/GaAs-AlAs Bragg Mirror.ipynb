{
 "cells": [
  {
   "cell_type": "markdown",
   "metadata": {},
   "source": [
    "# GaAs-AlAs Bragg Mirror\n",
    "\n",
    "A simple bragg mirror in the near infrared. As a default, this notebook is setup to work with [binder](http://mybinder.org/)."
   ]
  },
  {
   "cell_type": "markdown",
   "metadata": {},
   "source": [
    "## Importing libraries\n",
    "Below we import the library python style, i.e. with the `import Library` syntax."
   ]
  },
  {
   "cell_type": "code",
   "execution_count": null,
   "metadata": {
    "collapsed": false,
    "slideshow": {
     "slide_type": "slide"
    }
   },
   "outputs": [],
   "source": [
    "# importing libraries\n",
    "import numpy as np # numpy\n",
    "import matplotlib.pyplot as plt # matplotlib pyplot\n",
    "import sys                  # sys to add py_matrix to the path\n",
    "\n",
    "# adding folder containing 1DPyHC to path: by default is the folder for running in binder\n",
    "sys.path.append('/home/main/notebooks')\n",
    "import pyhc as phc # importing 1DPyHC\n",
    "\n",
    "# useful parameters\n",
    "f_size=20;\n",
    "\n",
    "# inline plot magic\n",
    "%matplotlib inline"
   ]
  },
  {
   "cell_type": "markdown",
   "metadata": {},
   "source": [
    "## Dielectric Stack inputs\n",
    "Below are all the input variables of the dielectric mirror. Play around with them and see what happens"
   ]
  },
  {
   "cell_type": "code",
   "execution_count": null,
   "metadata": {
    "collapsed": true,
    "slideshow": {
     "slide_type": "slide"
    }
   },
   "outputs": [],
   "source": [
    "# ref indexes\n",
    "n2 = 3.49 # GaAs\n",
    "n1 = 2.95 # AlAs\n",
    "n_inc = 1.0 # Incidend medium\n",
    "n_sub = 1.45 # Substrate\n",
    "\n",
    "# wavelength\n",
    "wl = 1064\n",
    "v_wl = np.linspace(950,1200,100)\n",
    "\n",
    "# thickness\n",
    "b = wl/(4 * n2)\n",
    "a = wl/(4 * n1)\n",
    "\n",
    "# stacks\n",
    "N=20"
   ]
  },
  {
   "cell_type": "markdown",
   "metadata": {},
   "source": [
    "## Field computation and reference data loading\n",
    "* In the first cell we compute the dielectric stack reflectance using 1DPyHC, and convert the output to a numpy array;\n",
    "* In the second cell we import the reflectance spectra computed for the same system with [py_matrix](https://github.com/gevero/py_matrix)"
   ]
  },
  {
   "cell_type": "code",
   "execution_count": null,
   "metadata": {
    "collapsed": false
   },
   "outputs": [],
   "source": [
    "# 1dphc computation\n",
    "v_R = np.array([phc.rN(b, a, n2, n1, n_inc, n_sub, N, phc.f_omega(l), 0.0) for l in v_wl])"
   ]
  },
  {
   "cell_type": "code",
   "execution_count": null,
   "metadata": {
    "collapsed": true
   },
   "outputs": [],
   "source": [
    "# reference t-matrix loading\n",
    "ref_data = np.loadtxt('gaas_alas_tmatrix.spt')\n",
    "v_wl_ref = ref_data[:,0]\n",
    "v_R_ref = ref_data[:,1]"
   ]
  },
  {
   "cell_type": "markdown",
   "metadata": {},
   "source": [
    "## data plotting\n",
    "Here we plot the data using [matplotlib](http://matplotlib.org/) and [pyplot](http://matplotlib.org/api/pyplot_api.html). If you want to create new plots with different stack parameters, it's better to remove the first row in the plot command, therefore removing the reference plot."
   ]
  },
  {
   "cell_type": "code",
   "execution_count": null,
   "metadata": {
    "collapsed": false
   },
   "outputs": [],
   "source": [
    "# result plot\n",
    "plt.figure(figsize=(12,10))\n",
    "plt.plot(v_wl_ref,v_R_ref,'k',\n",
    "         v_wl,v_R,'ro',linewidth=2.0)\n",
    "\n",
    "# ticks and labels\n",
    "plt.xticks(fontsize=f_size)\n",
    "plt.yticks(fontsize=f_size)\n",
    "plt.xlabel(\"Wavelength (nm)\", fontsize=f_size)\n",
    "plt.ylabel(\"R\", fontsize=f_size)\n",
    "\n",
    "# legend\n",
    "plt.legend(('tmatrix reference','1DPyHC'),frameon=False,fontsize=f_size-5,loc='lower center')"
   ]
  },
  {
   "cell_type": "code",
   "execution_count": null,
   "metadata": {
    "collapsed": true
   },
   "outputs": [],
   "source": []
  }
 ],
 "metadata": {
  "kernelspec": {
   "display_name": "Python 3",
   "language": "python",
   "name": "python3"
  },
  "language_info": {
   "codemirror_mode": {
    "name": "ipython",
    "version": 3
   },
   "file_extension": ".py",
   "mimetype": "text/x-python",
   "name": "python",
   "nbconvert_exporter": "python",
   "pygments_lexer": "ipython3",
   "version": "3.4.3"
  }
 },
 "nbformat": 4,
 "nbformat_minor": 0
}
